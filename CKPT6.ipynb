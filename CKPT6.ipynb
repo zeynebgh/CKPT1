{
  "nbformat": 4,
  "nbformat_minor": 0,
  "metadata": {
    "colab": {
      "name": "CKPT6",
      "provenance": [],
      "authorship_tag": "ABX9TyP4e3/piLFP3F+jCncrEcmD",
      "include_colab_link": true
    },
    "kernelspec": {
      "name": "python3",
      "display_name": "Python 3"
    },
    "language_info": {
      "name": "python"
    }
  },
  "cells": [
    {
      "cell_type": "markdown",
      "metadata": {
        "id": "view-in-github",
        "colab_type": "text"
      },
      "source": [
        "<a href=\"https://colab.research.google.com/github/zeynebgh/CKPT1/blob/main/CKPT6.ipynb\" target=\"_parent\"><img src=\"https://colab.research.google.com/assets/colab-badge.svg\" alt=\"Open In Colab\"/></a>"
      ]
    },
    {
      "cell_type": "code",
      "execution_count": null,
      "metadata": {
        "id": "uENWfweSwHAa"
      },
      "outputs": [],
      "source": [
        "import csv\n",
        "\n",
        "with open('iris.data.txt', 'r') as csvfile:\n",
        "\n",
        "lines = csv.reader(csvfile)\n",
        "\n",
        "for row in lines :\n",
        "\n",
        "print (', '.join(row))\n",
        "\n",
        "\n",
        "import csv\n",
        "\n",
        "import random\n",
        "\n",
        "def loadDataset(filename, split, trainingSet=[] , testSet=[]):\n",
        "\n",
        "with open(filename, 'r') as csvfile:\n",
        "\n",
        "  lines = csv.reader(csvfile)\n",
        "\n",
        "  dataset = list(lines)\n",
        "\n",
        "  for x in range(len(dataset)-1):\n",
        "\n",
        "    for y in range(4):\n",
        "\n",
        "      dataset[x][y] = float(dataset[x][y])\n",
        "\n",
        "    if random.random() < split:\n",
        "\n",
        "      complete code\n",
        "\n",
        "    else:\n",
        "\n",
        "      complete code\n",
        "\n",
        "\n",
        "\n",
        "trainingSet=[]\n",
        "\n",
        "testSet=[]\n",
        "\n",
        "loadDataset('iris.data', 0.66, trainingSet, testSet)\n",
        "\n",
        "print ('Train: ' + repr(len(trainingSet)))\n",
        "\n",
        "print ('Test: ' + repr(len(testSet)) )"
      ]
    },
    {
      "cell_type": "code",
      "source": [
        "import math\n",
        "\n",
        "def euclideanDistance(instance1, instance2, length):"
      ],
      "metadata": {
        "colab": {
          "base_uri": "https://localhost:8080/",
          "height": 130
        },
        "id": "Jrcx3hOUxiFF",
        "outputId": "1afb252f-3cd7-41ca-b777-e96c6a7fb92a"
      },
      "execution_count": 4,
      "outputs": [
        {
          "output_type": "error",
          "ename": "SyntaxError",
          "evalue": "ignored",
          "traceback": [
            "\u001b[0;36m  File \u001b[0;32m\"<ipython-input-4-ec3b696e6ab1>\"\u001b[0;36m, line \u001b[0;32m3\u001b[0m\n\u001b[0;31m    def euclideanDistance(instance1, instance2, length):\u001b[0m\n\u001b[0m                                                        ^\u001b[0m\n\u001b[0;31mSyntaxError\u001b[0m\u001b[0;31m:\u001b[0m unexpected EOF while parsing\n"
          ]
        }
      ]
    },
    {
      "cell_type": "code",
      "source": [
        "data1 = [2, 2, 2, 'a']\n",
        "\n",
        "data2 = [4, 4, 4, 'b']\n",
        "\n",
        "distance = euclideanDistance(data1, data2, 3)\n",
        "\n",
        "print 'Distance: ' + repr(distance)"
      ],
      "metadata": {
        "id": "UFVMNRfRxogN"
      },
      "execution_count": null,
      "outputs": []
    },
    {
      "cell_type": "code",
      "source": [
        "import operator\n",
        "\n",
        "def getNeighbors(trainingSet, testInstance, k):\n",
        "\n",
        "distances = []\n",
        "\n",
        "length = len(testInstance)-1\n",
        "\n",
        "for x in range(len(trainingSet)):\n",
        "\n",
        "dist = euclideanDistance(testInstance, trainingSet[x], length)\n",
        "\n",
        "distances.append((trainingSet[x], dist))\n",
        "\n",
        "distances.sort(key=operator.itemgetter(1))\n",
        "\n",
        "neighbors = []\n",
        "\n",
        "for x in range(k):\n",
        "\n",
        "neighbors.append(distances[x][0])\n",
        "\n",
        "return neighbors\n",
        "\n",
        "\n",
        "trainSet = [[2, 2, 2, 'a'], [4, 4, 4, 'b']]\n",
        "\n",
        "testInstance = [5, 5, 5]\n",
        "\n",
        "k = 1\n",
        "\n",
        "neighbors = getNeighbors(trainSet, testInstance, 1)\n",
        "\n",
        "print(neighbors)"
      ],
      "metadata": {
        "id": "mqD0KyhWxpVG"
      },
      "execution_count": null,
      "outputs": []
    },
    {
      "cell_type": "code",
      "source": [
        "import operator\n",
        "\n",
        "def getResponse(neighbors):\n",
        "\n",
        "classVotes = {}\n",
        "\n",
        "for x in range(len(neighbors)):\n",
        "\n",
        "response = neighbors[x][ ? ] \n",
        "\n",
        "if response in classVotes:"
      ],
      "metadata": {
        "id": "uRn_stWaxxi9"
      },
      "execution_count": null,
      "outputs": []
    },
    {
      "cell_type": "code",
      "source": [
        "sortedVotes = sorted(classVotes.items(), key=operator.itemgetter(1), reverse=True)\n",
        "\n",
        "return sortedVotes[0][0]\n",
        "\n",
        "neighbors = [[1,1,1,'a'], [2,2,2,'a'], [3,3,3,'b']]\n",
        "\n",
        "response = getResponse(neighbors)\n",
        "\n",
        "print(response)"
      ],
      "metadata": {
        "id": "2ePv1tupx-Md"
      },
      "execution_count": null,
      "outputs": []
    },
    {
      "cell_type": "code",
      "source": [
        ""
      ],
      "metadata": {
        "id": "vBKbxfPwyVka"
      },
      "execution_count": null,
      "outputs": []
    },
    {
      "cell_type": "code",
      "source": [
        "def getAccuracy(testSet, predictions):\n",
        "return (correct/float(len(testSet))) * 100.0\n",
        "testSet = [[1,1,1,'a'], [2,2,2,'a'], [3,3,3,'b']]\n",
        "\n",
        "predictions = ['a', 'a', 'a']\n",
        "\n",
        "accuracy = getAccuracy(testSet, predictions)\n",
        "\n",
        "print(accuracy)"
      ],
      "metadata": {
        "id": "7ZQ1MWpXyGkK"
      },
      "execution_count": null,
      "outputs": []
    }
  ]
}