{
  "nbformat": 4,
  "nbformat_minor": 0,
  "metadata": {
    "colab": {
      "name": "Untitled2.ipynb",
      "provenance": [],
      "authorship_tag": "ABX9TyNHfKgypGa+k2Uq9OdT4iUT",
      "include_colab_link": true
    },
    "kernelspec": {
      "name": "python3",
      "display_name": "Python 3"
    },
    "language_info": {
      "name": "python"
    }
  },
  "cells": [
    {
      "cell_type": "markdown",
      "metadata": {
        "id": "view-in-github",
        "colab_type": "text"
      },
      "source": [
        "<a href=\"https://colab.research.google.com/github/zeynebgh/CKPT1/blob/main/Untitled2.ipynb\" target=\"_parent\"><img src=\"https://colab.research.google.com/assets/colab-badge.svg\" alt=\"Open In Colab\"/></a>"
      ]
    },
    {
      "cell_type": "code",
      "execution_count": null,
      "metadata": {
        "colab": {
          "base_uri": "https://localhost:8080/"
        },
        "id": "UCd62aWhEM0W",
        "outputId": "5a76b95d-e8bd-405d-b49c-877e053eca8b"
      },
      "outputs": [
        {
          "output_type": "stream",
          "name": "stdout",
          "text": [
            "5.1,3.5,1.4,0.2,Iris-setosa\n",
            "4.9,3.0,1.4,0.2,Iris-setosa\n",
            "4.7,3.2,1.3,0.2,Iris-setosa\n",
            "4.6,3.1,1.5,0.2,Iris-setosa\n",
            "5.0,3.6,1.4,0.2,Iris-setosa\n",
            "5.4,3.9,1.7,0.4,Iris-setosa\n",
            "4.6,3.4,1.4,0.3,Iris-setosa\n",
            "5.0,3.4,1.5,0.2,Iris-setosa\n",
            "4.4,2.9,1.4,0.2,Iris-setosa\n",
            "4.9,3.1,1.5,0.1,Iris-setosa\n",
            "5.4,3.7,1.5,0.2,Iris-setosa\n",
            "4.8,3.4,1.6,0.2,Iris-setosa\n",
            "4.8,3.0,1.4,0.1,Iris-setosa\n",
            "4.3,3.0,1.1,0.1,Iris-setosa\n",
            "5.8,4.0,1.2,0.2,Iris-setosa\n",
            "5.7,4.4,1.5,0.4,Iris-setosa\n",
            "5.4,3.9,1.3,0.4,Iris-setosa\n",
            "5.1,3.5,1.4,0.3,Iris-setosa\n",
            "5.7,3.8,1.7,0.3,Iris-setosa\n",
            "5.1,3.8,1.5,0.3,Iris-setosa\n",
            "5.4,3.4,1.7,0.2,Iris-setosa\n",
            "5.1,3.7,1.5,0.4,Iris-setosa\n",
            "4.6,3.6,1.0,0.2,Iris-setosa\n",
            "5.1,3.3,1.7,0.5,Iris-setosa\n",
            "4.8,3.4,1.9,0.2,Iris-setosa\n",
            "5.0,3.0,1.6,0.2,Iris-setosa\n",
            "5.0,3.4,1.6,0.4,Iris-setosa\n",
            "5.2,3.5,1.5,0.2,Iris-setosa\n",
            "5.2,3.4,1.4,0.2,Iris-setosa\n",
            "4.7,3.2,1.6,0.2,Iris-setosa\n",
            "4.8,3.1,1.6,0.2,Iris-setosa\n",
            "5.4,3.4,1.5,0.4,Iris-setosa\n",
            "5.2,4.1,1.5,0.1,Iris-setosa\n",
            "5.5,4.2,1.4,0.2,Iris-setosa\n",
            "4.9,3.1,1.5,0.1,Iris-setosa\n",
            "5.0,3.2,1.2,0.2,Iris-setosa\n",
            "5.5,3.5,1.3,0.2,Iris-setosa\n",
            "4.9,3.1,1.5,0.1,Iris-setosa\n",
            "4.4,3.0,1.3,0.2,Iris-setosa\n",
            "5.1,3.4,1.5,0.2,Iris-setosa\n",
            "5.0,3.5,1.3,0.3,Iris-setosa\n",
            "4.5,2.3,1.3,0.3,Iris-setosa\n",
            "4.4,3.2,1.3,0.2,Iris-setosa\n",
            "5.0,3.5,1.6,0.6,Iris-setosa\n",
            "5.1,3.8,1.9,0.4,Iris-setosa\n",
            "4.8,3.0,1.4,0.3,Iris-setosa\n",
            "5.1,3.8,1.6,0.2,Iris-setosa\n",
            "4.6,3.2,1.4,0.2,Iris-setosa\n",
            "5.3,3.7,1.5,0.2,Iris-setosa\n",
            "5.0,3.3,1.4,0.2,Iris-setosa\n",
            "7.0,3.2,4.7,1.4,Iris-versicolor\n",
            "6.4,3.2,4.5,1.5,Iris-versicolor\n",
            "6.9,3.1,4.9,1.5,Iris-versicolor\n",
            "5.5,2.3,4.0,1.3,Iris-versicolor\n",
            "6.5,2.8,4.6,1.5,Iris-versicolor\n",
            "5.7,2.8,4.5,1.3,Iris-versicolor\n",
            "6.3,3.3,4.7,1.6,Iris-versicolor\n",
            "4.9,2.4,3.3,1.0,Iris-versicolor\n",
            "6.6,2.9,4.6,1.3,Iris-versicolor\n",
            "5.2,2.7,3.9,1.4,Iris-versicolor\n",
            "5.0,2.0,3.5,1.0,Iris-versicolor\n",
            "5.9,3.0,4.2,1.5,Iris-versicolor\n",
            "6.0,2.2,4.0,1.0,Iris-versicolor\n",
            "6.1,2.9,4.7,1.4,Iris-versicolor\n",
            "5.6,2.9,3.6,1.3,Iris-versicolor\n",
            "6.7,3.1,4.4,1.4,Iris-versicolor\n",
            "5.6,3.0,4.5,1.5,Iris-versicolor\n",
            "5.8,2.7,4.1,1.0,Iris-versicolor\n",
            "6.2,2.2,4.5,1.5,Iris-versicolor\n",
            "5.6,2.5,3.9,1.1,Iris-versicolor\n",
            "5.9,3.2,4.8,1.8,Iris-versicolor\n",
            "6.1,2.8,4.0,1.3,Iris-versicolor\n",
            "6.3,2.5,4.9,1.5,Iris-versicolor\n",
            "6.1,2.8,4.7,1.2,Iris-versicolor\n",
            "6.4,2.9,4.3,1.3,Iris-versicolor\n",
            "6.6,3.0,4.4,1.4,Iris-versicolor\n",
            "6.8,2.8,4.8,1.4,Iris-versicolor\n",
            "6.7,3.0,5.0,1.7,Iris-versicolor\n",
            "6.0,2.9,4.5,1.5,Iris-versicolor\n",
            "5.7,2.6,3.5,1.0,Iris-versicolor\n",
            "5.5,2.4,3.8,1.1,Iris-versicolor\n",
            "5.5,2.4,3.7,1.0,Iris-versicolor\n",
            "5.8,2.7,3.9,1.2,Iris-versicolor\n",
            "6.0,2.7,5.1,1.6,Iris-versicolor\n",
            "5.4,3.0,4.5,1.5,Iris-versicolor\n",
            "6.0,3.4,4.5,1.6,Iris-versicolor\n",
            "6.7,3.1,4.7,1.5,Iris-versicolor\n",
            "6.3,2.3,4.4,1.3,Iris-versicolor\n",
            "5.6,3.0,4.1,1.3,Iris-versicolor\n",
            "5.5,2.5,4.0,1.3,Iris-versicolor\n",
            "5.5,2.6,4.4,1.2,Iris-versicolor\n",
            "6.1,3.0,4.6,1.4,Iris-versicolor\n",
            "5.8,2.6,4.0,1.2,Iris-versicolor\n",
            "5.0,2.3,3.3,1.0,Iris-versicolor\n",
            "5.6,2.7,4.2,1.3,Iris-versicolor\n",
            "5.7,3.0,4.2,1.2,Iris-versicolor\n",
            "5.7,2.9,4.2,1.3,Iris-versicolor\n",
            "6.2,2.9,4.3,1.3,Iris-versicolor\n",
            "5.1,2.5,3.0,1.1,Iris-versicolor\n",
            "5.7,2.8,4.1,1.3,Iris-versicolor\n",
            "6.3,3.3,6.0,2.5,Iris-virginica\n",
            "5.8,2.7,5.1,1.9,Iris-virginica\n",
            "7.1,3.0,5.9,2.1,Iris-virginica\n",
            "6.3,2.9,5.6,1.8,Iris-virginica\n",
            "6.5,3.0,5.8,2.2,Iris-virginica\n",
            "7.6,3.0,6.6,2.1,Iris-virginica\n",
            "4.9,2.5,4.5,1.7,Iris-virginica\n",
            "7.3,2.9,6.3,1.8,Iris-virginica\n",
            "6.7,2.5,5.8,1.8,Iris-virginica\n",
            "7.2,3.6,6.1,2.5,Iris-virginica\n",
            "6.5,3.2,5.1,2.0,Iris-virginica\n",
            "6.4,2.7,5.3,1.9,Iris-virginica\n",
            "6.8,3.0,5.5,2.1,Iris-virginica\n",
            "5.7,2.5,5.0,2.0,Iris-virginica\n",
            "5.8,2.8,5.1,2.4,Iris-virginica\n",
            "6.4,3.2,5.3,2.3,Iris-virginica\n",
            "6.5,3.0,5.5,1.8,Iris-virginica\n",
            "7.7,3.8,6.7,2.2,Iris-virginica\n",
            "7.7,2.6,6.9,2.3,Iris-virginica\n",
            "6.0,2.2,5.0,1.5,Iris-virginica\n",
            "6.9,3.2,5.7,2.3,Iris-virginica\n",
            "5.6,2.8,4.9,2.0,Iris-virginica\n",
            "7.7,2.8,6.7,2.0,Iris-virginica\n",
            "6.3,2.7,4.9,1.8,Iris-virginica\n",
            "6.7,3.3,5.7,2.1,Iris-virginica\n",
            "7.2,3.2,6.0,1.8,Iris-virginica\n",
            "6.2,2.8,4.8,1.8,Iris-virginica\n",
            "6.1,3.0,4.9,1.8,Iris-virginica\n",
            "6.4,2.8,5.6,2.1,Iris-virginica\n",
            "7.2,3.0,5.8,1.6,Iris-virginica\n",
            "7.4,2.8,6.1,1.9,Iris-virginica\n",
            "7.9,3.8,6.4,2.0,Iris-virginica\n",
            "6.4,2.8,5.6,2.2,Iris-virginica\n",
            "6.3,2.8,5.1,1.5,Iris-virginica\n",
            "6.1,2.6,5.6,1.4,Iris-virginica\n",
            "7.7,3.0,6.1,2.3,Iris-virginica\n",
            "6.3,3.4,5.6,2.4,Iris-virginica\n",
            "6.4,3.1,5.5,1.8,Iris-virginica\n",
            "6.0,3.0,4.8,1.8,Iris-virginica\n",
            "6.9,3.1,5.4,2.1,Iris-virginica\n",
            "6.7,3.1,5.6,2.4,Iris-virginica\n",
            "6.9,3.1,5.1,2.3,Iris-virginica\n",
            "5.8,2.7,5.1,1.9,Iris-virginica\n",
            "6.8,3.2,5.9,2.3,Iris-virginica\n",
            "6.7,3.3,5.7,2.5,Iris-virginica\n",
            "6.7,3.0,5.2,2.3,Iris-virginica\n",
            "6.3,2.5,5.0,1.9,Iris-virginica\n",
            "6.5,3.0,5.2,2.0,Iris-virginica\n",
            "6.2,3.4,5.4,2.3,Iris-virginica\n",
            "5.9,3.0,5.1,1.8,Iris-virginica\n"
          ]
        }
      ],
      "source": [
        "import csv\n",
        "with open(\"/iris.data.txt\", \"r\") as csvfile:\n",
        "    lines = csv.reader(csvfile)\n",
        "    for row in lines:\n",
        "        print(\",\".join(row))\n"
      ]
    },
    {
      "cell_type": "code",
      "source": [
        "import random\n",
        "def loadDataset(filename, split, trainingSet = [], testSet = []):\n",
        "    with open(filename, \"r\") as csvfile:\n",
        "        lines = csv.reader(csvfile)\n",
        "        dataset = list(lines)\n",
        "        for x in range(len(dataset)-1):\n",
        "            for y in range(4):\n",
        "                dataset[x][y] = float(dataset[x][y])\n",
        "            if random.random() < split:\n",
        "                trainingSet.append(dataset[x])\n",
        "            else:\n",
        "                testSet.append(dataset[x])"
      ],
      "metadata": {
        "id": "UPegns1fEuVw"
      },
      "execution_count": null,
      "outputs": []
    },
    {
      "cell_type": "code",
      "source": [
        "trainingSet = []\n",
        "testSet = []\n",
        "loadDataset(\"/iris.data.txt\", 0.66, trainingSet, testSet)\n",
        "print(\"training= \" + repr(len(trainingSet)))\n",
        "print(\"test= \" + repr(len(testSet))) "
      ],
      "metadata": {
        "colab": {
          "base_uri": "https://localhost:8080/"
        },
        "id": "whGAIhkNE0qF",
        "outputId": "7bd44619-f1df-41fc-8166-99f169149477"
      },
      "execution_count": null,
      "outputs": [
        {
          "output_type": "stream",
          "name": "stdout",
          "text": [
            "training= 94\n",
            "test= 55\n"
          ]
        }
      ]
    },
    {
      "cell_type": "code",
      "source": [
        "import math\n",
        "def euclideanDistance(instance1, instance2, length): \n",
        "    distance = 0\n",
        "    for x in range(length):\n",
        "        distance += pow((instance1[x] - instance2[x]), 2)\n",
        "    return math.sqrt(distance)"
      ],
      "metadata": {
        "id": "SDmOJ5PaE-mO"
      },
      "execution_count": null,
      "outputs": []
    },
    {
      "cell_type": "code",
      "source": [
        "data1 = [2,2,2, \"a\"]\n",
        "data2 = [4,4,4, \"b\"]\n",
        "distance = euclideanDistance(data1, data2, 3)\n",
        "print(\"distance:\" + repr(distance))"
      ],
      "metadata": {
        "colab": {
          "base_uri": "https://localhost:8080/"
        },
        "id": "lBkdi2uxFD1q",
        "outputId": "5416b713-6c95-4d0d-d370-d6795e74c45c"
      },
      "execution_count": null,
      "outputs": [
        {
          "output_type": "stream",
          "name": "stdout",
          "text": [
            "distance:3.4641016151377544\n"
          ]
        }
      ]
    },
    {
      "cell_type": "code",
      "source": [
        "import operator\n",
        "def getNeighbors(trainingSet, testInstance, k):\n",
        "    distance = []\n",
        "    length = len(testInstance)-1\n",
        "    for x in range(len(trainingSet)):\n",
        "        dist = euclideanDistance(testInstance, trainingSet[x], length)\n",
        "        distance.append((trainingSet[x], dist))\n",
        "    distance.sort(key=operator.itemgetter(1))\n",
        "    neighbors = []\n",
        "    for x in range(k):\n",
        "        neighbors.append(distance[x][0])\n",
        "    return neighbors"
      ],
      "metadata": {
        "id": "PqDO2gqeFK9V"
      },
      "execution_count": null,
      "outputs": []
    },
    {
      "cell_type": "code",
      "source": [
        "trainSet = [[2, 2, 2, 'a'], [4, 4, 4, 'b']]\n",
        "testInstance = [5, 5, 5]\n",
        "k = 1\n",
        "neighbors = getNeighbors(trainSet, testInstance, 1)\n",
        "print(neighbors)"
      ],
      "metadata": {
        "colab": {
          "base_uri": "https://localhost:8080/"
        },
        "id": "SV4JLW-hFO64",
        "outputId": "1c8473b9-b44f-48bc-92da-de4861e03a69"
      },
      "execution_count": null,
      "outputs": [
        {
          "output_type": "stream",
          "name": "stdout",
          "text": [
            "[[4, 4, 4, 'b']]\n"
          ]
        }
      ]
    },
    {
      "cell_type": "code",
      "source": [
        "def getResponse(neighbors):\n",
        "    classVotes = {}\n",
        "    for x in range(len(neighbors)):\n",
        "      response = neighbors[x][ 4 ] \n",
        "      if response in classVotes:\n",
        "              classVotes[response] += 1\n",
        "      else:\n",
        "            classVotes[response] = 1\n",
        "      sortedVotes = sorted(classVotes.items(), key=operator.itemgetter(1), reverse=True)\n",
        "\n",
        "      return sortedVotes[0][0]\n",
        "        "
      ],
      "metadata": {
        "id": "V2KgWIloHigE"
      },
      "execution_count": null,
      "outputs": []
    },
    {
      "cell_type": "code",
      "source": [
        "neighbors = [[1,1,1,'a'], [2,2,2,'a'], [3,3,3,'b']]\n",
        "response = getResponse(neighbors)\n",
        "print(response)"
      ],
      "metadata": {
        "colab": {
          "base_uri": "https://localhost:8080/"
        },
        "id": "CoItG79gFbAo",
        "outputId": "8d0be7c2-b96b-408a-aa86-38231795f828"
      },
      "execution_count": null,
      "outputs": [
        {
          "output_type": "stream",
          "name": "stdout",
          "text": [
            "a\n"
          ]
        }
      ]
    },
    {
      "cell_type": "code",
      "source": [
        "def getAccuracy(testSet, predictions):\n",
        "    correct = 0\n",
        "    for x in range(len(testSet)):\n",
        "        if testSet[x][4] == predictions[x]:\n",
        "            correct += 1\n",
        "    return (correct/float(len(testSet))) * 100.0"
      ],
      "metadata": {
        "id": "a6sFke1ch0aq"
      },
      "execution_count": null,
      "outputs": []
    },
    {
      "cell_type": "code",
      "source": [
        "testSet = [[1,1,1,'a'], [2,2,2,'a'], [3,3,3,'b']]\n",
        "predictions = ['a', 'a', 'a']\n",
        "accuracy = getAccuracy(testSet, predictions)\n",
        "print(accuracy)"
      ],
      "metadata": {
        "colab": {
          "base_uri": "https://localhost:8080/"
        },
        "id": "IKPHj1dbF86l",
        "outputId": "612e6da3-b1b8-4a8d-89a9-7bba595d9a2c"
      },
      "execution_count": null,
      "outputs": [
        {
          "output_type": "stream",
          "name": "stdout",
          "text": [
            "66.66666666666666\n"
          ]
        }
      ]
    },
    {
      "cell_type": "code",
      "source": [
        "def main():\n",
        "    trainingSet = []\n",
        "    testSet = []\n",
        "    split = 0.66\n",
        "    loadDataset(\"/iris.data.txt\", split, trainingSet, testSet)\n",
        "    print(\"train: \" + repr(len(trainingSet)))\n",
        "    print(\"test: \" + repr(len(testSet)))\n",
        "    predictions = []\n",
        "    K=3\n",
        "    for x in range(len(testSet)):\n",
        "        neighbors = getNeighbors(trainingSet, testSet[x], k)\n",
        "        result = getResponse(neighbors)\n",
        "        predictions.append(result)\n",
        "        print('the predicted ' + repr(result)) \n",
        "        print('the actual: ' + repr(testSet[x][4]))\n",
        "    accuracy = getAccuracy(testSet, predictions)\n",
        "    print('The accuracy is: ' + repr(accuracy) + '%')\n",
        "main()"
      ],
      "metadata": {
        "colab": {
          "base_uri": "https://localhost:8080/"
        },
        "id": "_u1fo8MsF_1t",
        "outputId": "47e2ca9e-c038-4e7b-8da4-185a5a212bb2"
      },
      "execution_count": null,
      "outputs": [
        {
          "output_type": "stream",
          "name": "stdout",
          "text": [
            "train: 99\n",
            "test: 50\n",
            "the predicted 'Iris-setosa'\n",
            "the actual: 'Iris-setosa'\n",
            "the predicted 'Iris-setosa'\n",
            "the actual: 'Iris-setosa'\n",
            "the predicted 'Iris-setosa'\n",
            "the actual: 'Iris-setosa'\n",
            "the predicted 'Iris-setosa'\n",
            "the actual: 'Iris-setosa'\n",
            "the predicted 'Iris-setosa'\n",
            "the actual: 'Iris-setosa'\n",
            "the predicted 'Iris-setosa'\n",
            "the actual: 'Iris-setosa'\n",
            "the predicted 'Iris-setosa'\n",
            "the actual: 'Iris-setosa'\n",
            "the predicted 'Iris-setosa'\n",
            "the actual: 'Iris-setosa'\n",
            "the predicted 'Iris-setosa'\n",
            "the actual: 'Iris-setosa'\n",
            "the predicted 'Iris-setosa'\n",
            "the actual: 'Iris-setosa'\n",
            "the predicted 'Iris-setosa'\n",
            "the actual: 'Iris-setosa'\n",
            "the predicted 'Iris-setosa'\n",
            "the actual: 'Iris-setosa'\n",
            "the predicted 'Iris-setosa'\n",
            "the actual: 'Iris-setosa'\n",
            "the predicted 'Iris-setosa'\n",
            "the actual: 'Iris-setosa'\n",
            "the predicted 'Iris-setosa'\n",
            "the actual: 'Iris-setosa'\n",
            "the predicted 'Iris-setosa'\n",
            "the actual: 'Iris-setosa'\n",
            "the predicted 'Iris-versicolor'\n",
            "the actual: 'Iris-versicolor'\n",
            "the predicted 'Iris-versicolor'\n",
            "the actual: 'Iris-versicolor'\n",
            "the predicted 'Iris-versicolor'\n",
            "the actual: 'Iris-versicolor'\n",
            "the predicted 'Iris-versicolor'\n",
            "the actual: 'Iris-versicolor'\n",
            "the predicted 'Iris-versicolor'\n",
            "the actual: 'Iris-versicolor'\n",
            "the predicted 'Iris-versicolor'\n",
            "the actual: 'Iris-versicolor'\n",
            "the predicted 'Iris-virginica'\n",
            "the actual: 'Iris-versicolor'\n",
            "the predicted 'Iris-versicolor'\n",
            "the actual: 'Iris-versicolor'\n",
            "the predicted 'Iris-versicolor'\n",
            "the actual: 'Iris-versicolor'\n",
            "the predicted 'Iris-versicolor'\n",
            "the actual: 'Iris-versicolor'\n",
            "the predicted 'Iris-versicolor'\n",
            "the actual: 'Iris-versicolor'\n",
            "the predicted 'Iris-versicolor'\n",
            "the actual: 'Iris-versicolor'\n",
            "the predicted 'Iris-versicolor'\n",
            "the actual: 'Iris-versicolor'\n",
            "the predicted 'Iris-versicolor'\n",
            "the actual: 'Iris-versicolor'\n",
            "the predicted 'Iris-versicolor'\n",
            "the actual: 'Iris-versicolor'\n",
            "the predicted 'Iris-versicolor'\n",
            "the actual: 'Iris-versicolor'\n",
            "the predicted 'Iris-versicolor'\n",
            "the actual: 'Iris-versicolor'\n",
            "the predicted 'Iris-versicolor'\n",
            "the actual: 'Iris-virginica'\n",
            "the predicted 'Iris-virginica'\n",
            "the actual: 'Iris-virginica'\n",
            "the predicted 'Iris-virginica'\n",
            "the actual: 'Iris-virginica'\n",
            "the predicted 'Iris-virginica'\n",
            "the actual: 'Iris-virginica'\n",
            "the predicted 'Iris-virginica'\n",
            "the actual: 'Iris-virginica'\n",
            "the predicted 'Iris-virginica'\n",
            "the actual: 'Iris-virginica'\n",
            "the predicted 'Iris-virginica'\n",
            "the actual: 'Iris-virginica'\n",
            "the predicted 'Iris-virginica'\n",
            "the actual: 'Iris-virginica'\n",
            "the predicted 'Iris-virginica'\n",
            "the actual: 'Iris-virginica'\n",
            "the predicted 'Iris-versicolor'\n",
            "the actual: 'Iris-virginica'\n",
            "the predicted 'Iris-virginica'\n",
            "the actual: 'Iris-virginica'\n",
            "the predicted 'Iris-virginica'\n",
            "the actual: 'Iris-virginica'\n",
            "the predicted 'Iris-virginica'\n",
            "the actual: 'Iris-virginica'\n",
            "the predicted 'Iris-virginica'\n",
            "the actual: 'Iris-virginica'\n",
            "the predicted 'Iris-versicolor'\n",
            "the actual: 'Iris-virginica'\n",
            "the predicted 'Iris-virginica'\n",
            "the actual: 'Iris-virginica'\n",
            "the predicted 'Iris-virginica'\n",
            "the actual: 'Iris-virginica'\n",
            "The accuracy is: 92.0%\n"
          ]
        }
      ]
    },
    {
      "cell_type": "code",
      "source": [
        "def manhattanDistance(instance1, instance2, length):\n",
        "    distance = 0\n",
        "    for x in range(length):\n",
        "        distance += abs(instance1[x] - instance2[x])\n",
        "    return distance"
      ],
      "metadata": {
        "id": "txm3akFcHa_4"
      },
      "execution_count": null,
      "outputs": []
    },
    {
      "cell_type": "code",
      "source": [
        "def main():\n",
        "    trainingSet=[]\n",
        "    testSet=[]\n",
        "    split = 0.66\n",
        "    loadDataset('/iris.data.txt', split, trainingSet, testSet)\n",
        "    print ('Train: ' + repr(len(trainingSet)))\n",
        "    print ('Test: ' + repr(len(testSet)))\n",
        "    predictions=[]\n",
        "    k = 3\n",
        "    for x in range(len(testSet)):\n",
        "        neighbors = getNeighbors(trainingSet, testSet[x], k)\n",
        "        result = getResponse(neighbors)\n",
        "        predictions.append(result)\n",
        "        print('the predicted ' + repr(result)) \n",
        "        print('the actual: ' + repr(testSet[x][4]))\n",
        "    accuracy = getAccuracy(testSet, predictions)\n",
        "    print('The accuracy is: ' + repr(accuracy) + '%')\n",
        "main()"
      ],
      "metadata": {
        "colab": {
          "base_uri": "https://localhost:8080/"
        },
        "id": "EBLe6USPcvK_",
        "outputId": "814de140-f33e-4a9c-ee75-0c29fa90ee07"
      },
      "execution_count": null,
      "outputs": [
        {
          "output_type": "stream",
          "name": "stdout",
          "text": [
            "Train: 110\n",
            "Test: 39\n",
            "the predicted 'Iris-setosa'\n",
            "the actual: 'Iris-setosa'\n",
            "the predicted 'Iris-setosa'\n",
            "the actual: 'Iris-setosa'\n",
            "the predicted 'Iris-setosa'\n",
            "the actual: 'Iris-setosa'\n",
            "the predicted 'Iris-setosa'\n",
            "the actual: 'Iris-setosa'\n",
            "the predicted 'Iris-setosa'\n",
            "the actual: 'Iris-setosa'\n",
            "the predicted 'Iris-setosa'\n",
            "the actual: 'Iris-setosa'\n",
            "the predicted 'Iris-setosa'\n",
            "the actual: 'Iris-setosa'\n",
            "the predicted 'Iris-setosa'\n",
            "the actual: 'Iris-setosa'\n",
            "the predicted 'Iris-setosa'\n",
            "the actual: 'Iris-setosa'\n",
            "the predicted 'Iris-setosa'\n",
            "the actual: 'Iris-setosa'\n",
            "the predicted 'Iris-setosa'\n",
            "the actual: 'Iris-setosa'\n",
            "the predicted 'Iris-setosa'\n",
            "the actual: 'Iris-setosa'\n",
            "the predicted 'Iris-setosa'\n",
            "the actual: 'Iris-setosa'\n",
            "the predicted 'Iris-setosa'\n",
            "the actual: 'Iris-setosa'\n",
            "the predicted 'Iris-setosa'\n",
            "the actual: 'Iris-setosa'\n",
            "the predicted 'Iris-versicolor'\n",
            "the actual: 'Iris-versicolor'\n",
            "the predicted 'Iris-versicolor'\n",
            "the actual: 'Iris-versicolor'\n",
            "the predicted 'Iris-versicolor'\n",
            "the actual: 'Iris-versicolor'\n",
            "the predicted 'Iris-versicolor'\n",
            "the actual: 'Iris-versicolor'\n",
            "the predicted 'Iris-virginica'\n",
            "the actual: 'Iris-versicolor'\n",
            "the predicted 'Iris-versicolor'\n",
            "the actual: 'Iris-versicolor'\n",
            "the predicted 'Iris-versicolor'\n",
            "the actual: 'Iris-versicolor'\n",
            "the predicted 'Iris-virginica'\n",
            "the actual: 'Iris-virginica'\n",
            "the predicted 'Iris-virginica'\n",
            "the actual: 'Iris-virginica'\n",
            "the predicted 'Iris-virginica'\n",
            "the actual: 'Iris-virginica'\n",
            "the predicted 'Iris-virginica'\n",
            "the actual: 'Iris-virginica'\n",
            "the predicted 'Iris-virginica'\n",
            "the actual: 'Iris-virginica'\n",
            "the predicted 'Iris-virginica'\n",
            "the actual: 'Iris-virginica'\n",
            "the predicted 'Iris-versicolor'\n",
            "the actual: 'Iris-virginica'\n",
            "the predicted 'Iris-virginica'\n",
            "the actual: 'Iris-virginica'\n",
            "the predicted 'Iris-virginica'\n",
            "the actual: 'Iris-virginica'\n",
            "the predicted 'Iris-virginica'\n",
            "the actual: 'Iris-virginica'\n",
            "the predicted 'Iris-versicolor'\n",
            "the actual: 'Iris-virginica'\n",
            "the predicted 'Iris-versicolor'\n",
            "the actual: 'Iris-virginica'\n",
            "the predicted 'Iris-virginica'\n",
            "the actual: 'Iris-virginica'\n",
            "the predicted 'Iris-virginica'\n",
            "the actual: 'Iris-virginica'\n",
            "the predicted 'Iris-virginica'\n",
            "the actual: 'Iris-virginica'\n",
            "the predicted 'Iris-virginica'\n",
            "the actual: 'Iris-virginica'\n",
            "the predicted 'Iris-virginica'\n",
            "the actual: 'Iris-virginica'\n",
            "The accuracy is: 89.74358974358975%\n"
          ]
        }
      ]
    },
    {
      "cell_type": "code",
      "source": [
        ""
      ],
      "metadata": {
        "id": "gU3WRiecgKNI"
      },
      "execution_count": null,
      "outputs": []
    }
  ]
}